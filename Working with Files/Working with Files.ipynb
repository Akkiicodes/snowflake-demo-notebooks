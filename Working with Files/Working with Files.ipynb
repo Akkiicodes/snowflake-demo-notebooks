{
  "metadata": {
    "kernelspec": {
      "display_name": "Streamlit Notebook",
      "name": "streamlit"
    }
  },
  "nbformat_minor": 5,
  "nbformat": 4,
  "cells": [
    {
      "cell_type": "markdown",
      "id": "dfa83513-f551-4576-a9b1-ba72fea7a3f8",
      "metadata": {
        "name": "cell1",
        "collapsed": false
      },
      "source": "# How to work with files in Snowflake Notebooks \ud83d\uddc4\ufe0f\n\nIn this example, we will show you how you can work with files in notebooks and how to save them permanently to a stage."
    },
    {
      "cell_type": "markdown",
      "id": "60bb7c26-7567-4da9-994c-7d45bbeaefbe",
      "metadata": {
        "name": "cell2",
        "collapsed": false
      },
      "source": "## Working with Temporary Files\n\nAny files you write from the notebook are temporarily stored in the local stage associated with your notebook.\n\n**Note that you will no longer have access to these files as soon as you exit out of the notebook session.**\n\nLet's take a look at an example of how this works by creating a simple file."
    },
    {
      "cell_type": "code",
      "id": "3775908f-ca36-4846-8f38-5adca39217f2",
      "metadata": {
        "language": "python",
        "name": "cell3",
        "codeCollapsed": false,
        "collapsed": false
      },
      "source": "with open(\"myfile.txt\",'w') as f:\n    f.write(\"abc\")\nf.close()",
      "execution_count": null,
      "outputs": []
    },
    {
      "cell_type": "markdown",
      "id": "1d0f320f-bb0b-49c5-8afe-f79f67ba61d3",
      "metadata": {
        "name": "cell4"
      },
      "source": "Taking a look at what's the files on my stage. Note that `notebook_app.ipynb` and `environment.yml` are files automatically created as part of Snowflake notebook. You can see the new file we created `myfile.txt`."
    },
    {
      "cell_type": "code",
      "id": "8d50cbf4-0c8d-4950-86cb-114990437ac9",
      "metadata": {
        "language": "python",
        "name": "cell5",
        "codeCollapsed": false,
        "collapsed": false
      },
      "source": "import os\nos.listdir()",
      "execution_count": null,
      "outputs": []
    },
    {
      "cell_type": "markdown",
      "id": "c695373e-ac74-4b62-a1f1-08206cbd5c81",
      "metadata": {
        "name": "cell6",
        "collapsed": false
      },
      "source": "Now let's disconnect the notebook from the session. You can do this by closing/refreshing the browser page or clicking on the `Active` button on the top right corner and press `End session`.\n\nNow if you rerun the notebook starting from this cell, the file you created during your previous notebook session `myfile.txt` will be lost. "
    },
    {
      "cell_type": "code",
      "id": "9c22bca7-1787-400d-ae28-482987817906",
      "metadata": {
        "language": "python",
        "name": "cell7",
        "collapsed": false,
        "codeCollapsed": false
      },
      "outputs": [],
      "source": "import os\nos.listdir()",
      "execution_count": null
    },
    {
      "cell_type": "markdown",
      "id": "65556fd5-8be3-4084-87e4-81e7263489ef",
      "metadata": {
        "name": "cell8",
        "collapsed": false
      },
      "source": "# Working with Permanent Files\n\nWhat if you want to save the file to a permanent location that you can access again when you come back to the session? For example, you may trained a model and want to save your model for use later, or you may want to store the results of your analysis. Since files created during the notebook session is temporary by default, we show you how you can do save files permanently by moving your files to a permanent Snowflake stage.\n\nFirst, let's create a stage called `PERMANENT_STAGE`:"
    },
    {
      "cell_type": "code",
      "id": "6646015e-f40b-4ff4-affe-b6f98f1158dd",
      "metadata": {
        "language": "sql",
        "name": "cell9",
        "codeCollapsed": false,
        "collapsed": false
      },
      "outputs": [],
      "source": "CREATE OR REPLACE STAGE PERMANENT_STAGE;",
      "execution_count": null
    },
    {
      "cell_type": "markdown",
      "id": "2c197f0c-0500-407a-ad41-3cd241fc3320",
      "metadata": {
        "name": "cell10",
        "collapsed": false
      },
      "source": "Now let's write `myfile.txt` to the temporary local stage again"
    },
    {
      "cell_type": "code",
      "id": "20c5df62-c520-4776-b74f-5c6fbc398e47",
      "metadata": {
        "language": "python",
        "name": "cell11",
        "collapsed": false,
        "codeCollapsed": false
      },
      "outputs": [],
      "source": "with open(\"myfile.txt\",'w') as f:\n    f.write(\"abc\")\nf.close()",
      "execution_count": null
    },
    {
      "cell_type": "markdown",
      "id": "4cd337ae-4a68-4d5d-afe8-ce6606d48324",
      "metadata": {
        "name": "cell12",
        "collapsed": false
      },
      "source": "Now let's use Snowpark to upload the local file we created to the stage location. In Notebooks, we can use `get_active_session` method to get the [session](https://docs.snowflake.com/en/developer-guide/snowpark/reference/python/latest/api/snowflake.snowpark.Session#snowflake.snowpark.Session) context variable to work with Snowpark as follows:"
    },
    {
      "cell_type": "code",
      "id": "deb5f941-d916-4bb3-b0be-d4c3cbc9bced",
      "metadata": {
        "language": "python",
        "name": "cell13",
        "collapsed": false,
        "codeCollapsed": false
      },
      "outputs": [],
      "source": "from snowflake.snowpark.context import get_active_session\nsession = get_active_session()",
      "execution_count": null
    },
    {
      "cell_type": "markdown",
      "id": "ef94acc8-a486-4441-a647-25422542314a",
      "metadata": {
        "name": "cell14",
        "collapsed": false
      },
      "source": "Let's use the [session.file.put](https://docs.snowflake.com/en/developer-guide/snowpark/reference/python/latest/api/snowflake.snowpark.FileOperation.put) command in Snowpark to move `myfile.txt` to the stage location `@PERMANENT_STAGE`"
    },
    {
      "cell_type": "code",
      "id": "4f626f09-809f-4c6e-b6ed-bf7521041544",
      "metadata": {
        "language": "python",
        "name": "cell15",
        "codeCollapsed": false
      },
      "outputs": [],
      "source": "put_result = session.file.put(\"myfile.txt\",\"@PERMANENT_STAGE\", auto_compress= False)\nput_result[0].status",
      "execution_count": null
    },
    {
      "cell_type": "markdown",
      "id": "b9e31ad7-aec0-4431-a907-167291fca0e2",
      "metadata": {
        "name": "cell16",
        "collapsed": false
      },
      "source": "The file has now been uploaded to the permanent stage. "
    },
    {
      "cell_type": "code",
      "id": "b8557a5f-bb17-42d4-96fe-4875fee51d91",
      "metadata": {
        "language": "sql",
        "name": "cell17",
        "codeCollapsed": false
      },
      "outputs": [],
      "source": "LS @PERMANENT_STAGE;",
      "execution_count": null
    },
    {
      "cell_type": "markdown",
      "id": "319aa72b-8356-4fba-a260-655cc1786b85",
      "metadata": {
        "name": "cell18",
        "collapsed": false
      },
      "source": "Now if you disconnect the notebook session, you will see that the file still persist in the permanent stage."
    },
    {
      "cell_type": "code",
      "id": "1e61830a-c637-47f4-9ceb-705464262210",
      "metadata": {
        "language": "sql",
        "name": "cell19",
        "codeCollapsed": false,
        "collapsed": false
      },
      "outputs": [],
      "source": "LS @PERMANENT_STAGE;",
      "execution_count": null
    },
    {
      "cell_type": "code",
      "id": "aa745d07-4ebf-4c94-a017-e6131c24cd2b",
      "metadata": {
        "language": "python",
        "name": "cell20",
        "codeCollapsed": false
      },
      "outputs": [],
      "source": "from snowflake.snowpark.context import get_active_session\nsession = get_active_session()\n\nf = session.file.get_stream(\"@PERMANENT_STAGE/myfile.txt\")\nprint(f.readline())\nf.close()",
      "execution_count": null
    },
    {
      "cell_type": "markdown",
      "id": "4fcdca0d-9860-4178-8013-b2a6135e789d",
      "metadata": {
        "name": "cell21",
        "collapsed": false
      },
      "source": "Alternatively, if you prefer to download the file locally first before reading it, you can using the [session.file.get](https://docs.snowflake.com/en/developer-guide/snowpark/reference/python/latest/api/snowflake.snowpark.FileOperation.get) command: "
    },
    {
      "cell_type": "code",
      "id": "4637b83b-4171-4545-ac3b-2f3878ae21ed",
      "metadata": {
        "language": "python",
        "name": "cell22",
        "codeCollapsed": false,
        "collapsed": false
      },
      "outputs": [],
      "source": "# Download the file from stage to current local path\nget_status = session.file.get(\"@PERMANENT_STAGE/myfile.txt\",\"./\")\nget_status[0].status",
      "execution_count": null
    },
    {
      "cell_type": "code",
      "id": "2b6a333c-143a-477b-9760-046748c9fd2e",
      "metadata": {
        "language": "python",
        "name": "cell23",
        "codeCollapsed": false
      },
      "outputs": [],
      "source": "import os\nos.listdir()",
      "execution_count": null
    },
    {
      "cell_type": "code",
      "id": "a514fbb3-af35-40ed-afba-485600492d3f",
      "metadata": {
        "language": "python",
        "name": "cell24",
        "codeCollapsed": false
      },
      "outputs": [],
      "source": "# Open the file locally\nwith open(\"myfile.txt\",'r') as f:\n    print(f.readline())\nf.close()",
      "execution_count": null
    },
    {
      "cell_type": "code",
      "id": "861fbd52-b4a7-46ca-9f1b-07f7485551bd",
      "metadata": {
        "language": "sql",
        "name": "cell25",
        "codeCollapsed": false
      },
      "outputs": [],
      "source": "-- Teardown stage created as part of this tutorial\nDROP STAGE PERMANENT_STAGE;",
      "execution_count": null
    },
    {
      "cell_type": "markdown",
      "id": "f9f1fb29-b4d8-45bf-9918-1133d1132c60",
      "metadata": {
        "name": "cell26",
        "collapsed": false
      },
      "source": "### Conclusion\n\nIn this tutorial, we showed how you can upload local files from your notebook to a permanent Snowflake stage to persist results across notebook sessions. We used Snowpark's file operation commands (e.g., [file.get](https://docs.snowflake.com/en/developer-guide/snowpark/reference/python/latest/api/snowflake.snowpark.FileOperation.get), [file.put](https://docs.snowflake.com/en/developer-guide/snowpark/reference/python/latest/api/snowflake.snowpark.FileOperation.put)) to move files between your local file path and the stage location. You can learn more about working with files with Snowpark [here](https://docs.snowflake.com/en/developer-guide/snowpark/reference/python/latest/io)."
    }
  ]
}