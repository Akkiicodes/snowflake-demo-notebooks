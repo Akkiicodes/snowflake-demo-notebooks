{
  "cells": [
    {
      "cell_type": "markdown",
      "id": "de537cfd",
      "metadata": {},
      "source": [
        "## This repo has been moved\n",
        "\n",
        "Visit [this Github repo](https://github.com/Snowflake-Labs/sfguide-data-analysis-churn-prediction-in-snowflake-notebooks/) to see the full quickstart source code."
      ]
    }
  ],
  "metadata": {
    "kernelspec": {
      "display_name": "Python 3 (ipykernel)",
      "language": "python",
      "name": "python3"
    },
    "language_info": {
      "codemirror_mode": {
        "name": "ipython",
        "version": 3
      },
      "file_extension": ".py",
      "mimetype": "text/x-python",
      "name": "python",
      "nbconvert_exporter": "python",
      "pygments_lexer": "ipython3",
      "version": "3.11.5"
    }
  },
  "nbformat": 4,
  "nbformat_minor": 5
}
